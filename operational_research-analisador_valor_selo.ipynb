{
  "nbformat": 4,
  "nbformat_minor": 0,
  "metadata": {
    "colab": {
      "provenance": [],
      "authorship_tag": "ABX9TyPymlJ9a81tjaLvGB89NnNa",
      "include_colab_link": true
    },
    "kernelspec": {
      "name": "python3",
      "display_name": "Python 3"
    },
    "language_info": {
      "name": "python"
    }
  },
  "cells": [
    {
      "cell_type": "markdown",
      "metadata": {
        "id": "view-in-github",
        "colab_type": "text"
      },
      "source": [
        "<a href=\"https://colab.research.google.com/github/cristiano-de-magalhaes/operational-research/blob/main/operational_research-analisador_valor_selo.ipynb\" target=\"_parent\"><img src=\"https://colab.research.google.com/assets/colab-badge.svg\" alt=\"Open In Colab\"/></a>"
      ]
    },
    {
      "cell_type": "code",
      "execution_count": 1,
      "metadata": {
        "collapsed": true,
        "id": "hhPlh8uRYxKW",
        "colab": {
          "base_uri": "https://localhost:8080/"
        },
        "outputId": "a919c010-4703-4ff8-c885-b0c75b079e46"
      },
      "outputs": [
        {
          "output_type": "stream",
          "name": "stdout",
          "text": [
            "nohup: ignoring input and appending output to 'nohup.out'\n"
          ]
        }
      ],
      "source": [
        "# !pip install ortools\n",
        "!nohup pip install ortools"
      ]
    },
    {
      "cell_type": "code",
      "source": [
        "from ortools.linear_solver import pywraplp as pwl"
      ],
      "metadata": {
        "id": "sfW_S0PCY76w"
      },
      "execution_count": 2,
      "outputs": []
    },
    {
      "cell_type": "code",
      "source": [
        "solver = pwl.Solver(\n",
        "    \"Analisador de valor de selos\",\n",
        "    pwl.Solver.GLOP_LINEAR_PROGRAMMING\n",
        ")"
      ],
      "metadata": {
        "id": "SNRCHL8nZJyq"
      },
      "execution_count": 3,
      "outputs": []
    },
    {
      "cell_type": "code",
      "source": [
        "# NumVar(lb (lower boundary), ub (upper boundary), name)\n",
        "selo = solver.NumVar(0.0, solver.infinity(), \"selo\")"
      ],
      "metadata": {
        "id": "l4rGyHH7aH20"
      },
      "execution_count": 4,
      "outputs": []
    },
    {
      "cell_type": "code",
      "source": [
        "## copo baixo\n",
        "# supondo que com a maior quantidade de selos o valor fica superior ao anunciado\n",
        "solver.Add(206.00 <= 70 * selo +  9.99, \"copo_baixo_1\")\n",
        "# supondo que com a menor quantidade de selos o valor fica inferior ao anunciado\n",
        "solver.Add(206.00 >= 30 * selo + 59.99, \"copo_baixo_2\")\n",
        "\n",
        "# taça cerveja\n",
        "solver.Add(271.00 <= 75 * selo + 12.99, \"taca_cerve_1\")\n",
        "solver.Add(271.00 >= 35 * selo + 69.99, \"taca_cerve_2\")\n",
        "\n",
        "# taça champagne\n",
        "solver.Add(271.00 <= 75 * selo + 12.99, \"taca_champ_1\")\n",
        "solver.Add(271.00 >= 35 * selo + 69.99, \"taca_champ_2\")\n",
        "\n",
        "# taça vinho tinto\n",
        "solver.Add(283.00 <= 80 * selo + 19.99, \"taca_tinto_1\")\n",
        "solver.Add(283.00 >= 35 * selo + 89.99, \"taca_tinto_2\")\n",
        "\n",
        "# taça vinho branco\n",
        "solver.Add(283.00 <= 80 * selo + 24.99, \"taca_branc_1\")\n",
        "solver.Add(283.00 >= 35 * selo + 89.99, \"taca_branc_2\")\n",
        "\n",
        "# decanter\n",
        "solver.Add(428.00 <= 88 * selo + 39.99, \"decanter_1\")\n",
        "solver.Add(428.00 >= 40 * selo + 99.99, \"decanter_2\")"
      ],
      "metadata": {
        "colab": {
          "base_uri": "https://localhost:8080/"
        },
        "collapsed": true,
        "id": "DepvXyQTac34",
        "outputId": "d200760e-c3fa-4079-adcc-7dc6d4ea4d7f"
      },
      "execution_count": 5,
      "outputs": [
        {
          "output_type": "execute_result",
          "data": {
            "text/plain": [
              "<ortools.linear_solver.pywraplp.Constraint; proxy of <Swig Object of type 'operations_research::MPConstraint *' at 0x7c7a3670d950> >"
            ]
          },
          "metadata": {},
          "execution_count": 5
        }
      ]
    },
    {
      "cell_type": "code",
      "source": [
        "solver.Minimize(selo)"
      ],
      "metadata": {
        "id": "XZzUDd9wbqox"
      },
      "execution_count": 6,
      "outputs": []
    },
    {
      "cell_type": "code",
      "source": [
        "status = solver.Solve()\n",
        "print(status)"
      ],
      "metadata": {
        "colab": {
          "base_uri": "https://localhost:8080/"
        },
        "id": "FIK5jR2Xd6R7",
        "outputId": "34439184-2ff8-40b8-aa4a-049604162c7f"
      },
      "execution_count": 10,
      "outputs": [
        {
          "output_type": "stream",
          "name": "stdout",
          "text": [
            "OPTIMAL\n"
          ]
        }
      ]
    },
    {
      "cell_type": "markdown",
      "source": [
        "```python\n",
        "#CLASS VARIABLES for SOLUTION STATUS\n",
        "pywraplp.Solver.OPTIMAL       = 0\n",
        "pywraplp.Solver.FEASIBLE      = 1\n",
        "pywraplp.Solver.INFEASIBLE    = 2\n",
        "pywraplp.Solver.UNBOUNDED     = 3\n",
        "pywraplp.Solver.ABNORMAL      = 4\n",
        "pywraplp.Solver.MODEL_INVALID = 5\n",
        "pywraplp.Solver.NOT_SOLVED    = 6\n",
        "```"
      ],
      "metadata": {
        "id": "O9wE5Y1qq2zh"
      }
    },
    {
      "cell_type": "code",
      "source": [
        "# prova\n",
        "print(\"pywraplp.Solver.OPTIMAL\\t\\t=\", pwl.Solver.OPTIMAL)\n",
        "print(\"pywraplp.Solver.FEASIBLE\\t=\", pwl.Solver.FEASIBLE)\n",
        "print(\"pywraplp.Solver.INFEASIBLE\\t=\", pwl.Solver.INFEASIBLE)\n",
        "print(\"pywraplp.Solver.UNBOUNDED\\t=\", pwl.Solver.UNBOUNDED)\n",
        "print(\"pywraplp.Solver.ABNORMAL\\t=\", pwl.Solver.ABNORMAL)\n",
        "print(\"pywraplp.Solver.MODEL_INVALID\\t=\", pwl.Solver.MODEL_INVALID)\n",
        "print(\"pywraplp.Solver.NOT_SOLVED\\t=\", pwl.Solver.NOT_SOLVED)"
      ],
      "metadata": {
        "colab": {
          "base_uri": "https://localhost:8080/"
        },
        "id": "xGwszfknpPab",
        "outputId": "32ab3118-d212-4197-8e6a-a4f24fb30a22"
      },
      "execution_count": 8,
      "outputs": [
        {
          "output_type": "stream",
          "name": "stdout",
          "text": [
            "pywraplp.Solver.OPTIMAL\t\t= 0\n",
            "pywraplp.Solver.FEASIBLE\t= 1\n",
            "pywraplp.Solver.INFEASIBLE\t= 2\n",
            "pywraplp.Solver.UNBOUNDED\t= 3\n",
            "pywraplp.Solver.ABNORMAL\t= 4\n",
            "pywraplp.Solver.MODEL_INVALID\t= 5\n",
            "pywraplp.Solver.NOT_SOLVED\t= 6\n"
          ]
        }
      ]
    },
    {
      "cell_type": "code",
      "source": [
        "def solution_status(status):\n",
        "    match status:\n",
        "        case 0:\n",
        "            print(\"OPTIMAL\")\n",
        "        case 1:\n",
        "            print(\"FEASIBLE\")\n",
        "        case 2:\n",
        "            print(\"INFEASIBLE\")\n",
        "        case 3:\n",
        "            print(\"UNBOUNDED\")\n",
        "        case 4:\n",
        "            print(\"ABNORMAL\")\n",
        "        case 5:\n",
        "            print(\"MODEL_INVALID\")\n",
        "        case 6:\n",
        "            print(\"NOT_SOLVED\")\n",
        "\n",
        "solution_status(status)"
      ],
      "metadata": {
        "colab": {
          "base_uri": "https://localhost:8080/"
        },
        "id": "y4dFjcVSpTpm",
        "outputId": "2115f550-eb87-4838-b476-3e9223326174"
      },
      "execution_count": 9,
      "outputs": [
        {
          "output_type": "stream",
          "name": "stdout",
          "text": [
            "OPTIMAL\n"
          ]
        }
      ]
    },
    {
      "cell_type": "code",
      "source": [
        "print(\"Selo: R$\", f\"{selo.solution_value():.2f}\")\n",
        "print(\"Selo: R$\", f\"{solver.Objective().Value():.2f}\")"
      ],
      "metadata": {
        "colab": {
          "base_uri": "https://localhost:8080/"
        },
        "id": "3lC712vLeg6c",
        "outputId": "651b3968-35a5-42c9-94b6-be74d42a14e6"
      },
      "execution_count": 11,
      "outputs": [
        {
          "output_type": "stream",
          "name": "stdout",
          "text": [
            "Selo: R$ 4.41\n",
            "Selo: R$ 4.41\n"
          ]
        }
      ]
    },
    {
      "cell_type": "code",
      "source": [
        "selo = selo.solution_value()"
      ],
      "metadata": {
        "id": "wFN-5dGpfr-0"
      },
      "execution_count": 12,
      "outputs": []
    },
    {
      "cell_type": "code",
      "source": [
        "selo"
      ],
      "metadata": {
        "colab": {
          "base_uri": "https://localhost:8080/"
        },
        "id": "MMuBSuHLfr8f",
        "outputId": "1ffac416-fd72-4575-a915-021cbc44ea2c"
      },
      "execution_count": 13,
      "outputs": [
        {
          "output_type": "execute_result",
          "data": {
            "text/plain": [
              "4.409204545454545"
            ]
          },
          "metadata": {},
          "execution_count": 13
        }
      ]
    },
    {
      "cell_type": "code",
      "source": [
        "# copo baixo\n",
        "print(f\"Era R$ 206.00 -> R$ {(70 * selo +  9.99):.2f}\", \"copo_baixo_1\", f\"{(((70 * selo +  9.99) / 206.00)*100):.2f}%\")\n",
        "print(f\"Era R$ 206.00 -> R$ {(30 * selo + 59.99):.2f}\", \"copo_baixo_2\", f\"{(((30 * selo + 59.99) / 206.00)*100):.2f}%\")\n",
        "print()\n",
        "# taça cerveja\n",
        "print(f\"Era R$ 271.00 -> R$ {(75 * selo + 12.99):.2f}\", \"taca_cerve_1\", f\"{(((75 * selo + 12.99) / 271.00)*100):.2f}%\")\n",
        "print(f\"Era R$ 271.00 -> R$ {(35 * selo + 69.99):.2f}\", \"taca_cerve_2\", f\"{(((35 * selo + 69.99) / 271.00)*100):.2f}%\")\n",
        "print()\n",
        "# taça champagne\n",
        "print(f\"Era R$ 271.00 -> R$ {(75 * selo + 12.99):.2f}\", \"taca_champ_1\", f\"{(((75 * selo + 12.99) / 271.00)*100):.2f}%\")\n",
        "print(f\"Era R$ 271.00 -> R$ {(35 * selo + 69.99):.2f}\", \"taca_champ_2\", f\"{(((35 * selo + 69.99) / 271.00)*100):.2f}%\")\n",
        "print()\n",
        "# taça vinho tinto\n",
        "print(f\"Era R$ 283.00 -> R$ {(80 * selo + 19.99):.2f}\", \"taca_tinto_1\", f\"{(((80 * selo + 19.99) / 283.00)*100):.2f}%\")\n",
        "print(f\"Era R$ 283.00 -> R$ {(35 * selo + 89.99):.2f}\", \"taca_tinto_2\", f\"{(((35 * selo + 89.99) / 283.00)*100):.2f}%\")\n",
        "print()\n",
        "# taça vinho branco\n",
        "print(f\"Era R$ 283.00 -> R$ {(80 * selo + 24.99):.2f}\", \"taca_branc_1\", f\"{(((80 * selo + 24.99) / 283.00)*100):.2f}%\")\n",
        "print(f\"Era R$ 283.00 -> R$ {(35 * selo + 89.99):.2f}\", \"taca_branc_2\", f\"{(((35 * selo + 89.99) / 283.00)*100):.2f}%\")\n",
        "print()\n",
        "# decanter\n",
        "print(f\"Era R$ 428.00 -> R$ {(88 * selo + 39.99):.2f}\", \"decanter_1  \", f\"{(((88 * selo + 39.99) / 428.00)*100):.2f}%\")\n",
        "print(f\"Era R$ 428.00 -> R$ {(40 * selo + 99.99):.2f}\", \"decanter_2  \", f\"{(((40 * selo + 99.99) / 428.00)*100):.2f}%\")\n",
        "print()"
      ],
      "metadata": {
        "colab": {
          "base_uri": "https://localhost:8080/"
        },
        "id": "zoGdN-r2fr6r",
        "outputId": "fe7d74e1-46b1-4217-9908-f615dde31072"
      },
      "execution_count": 14,
      "outputs": [
        {
          "output_type": "stream",
          "name": "stdout",
          "text": [
            "Era R$ 206.00 -> R$ 318.63 copo_baixo_1 154.68%\n",
            "Era R$ 206.00 -> R$ 192.27 copo_baixo_2 93.33%\n",
            "\n",
            "Era R$ 271.00 -> R$ 343.68 taca_cerve_1 126.82%\n",
            "Era R$ 271.00 -> R$ 224.31 taca_cerve_2 82.77%\n",
            "\n",
            "Era R$ 271.00 -> R$ 343.68 taca_champ_1 126.82%\n",
            "Era R$ 271.00 -> R$ 224.31 taca_champ_2 82.77%\n",
            "\n",
            "Era R$ 283.00 -> R$ 372.73 taca_tinto_1 131.71%\n",
            "Era R$ 283.00 -> R$ 244.31 taca_tinto_2 86.33%\n",
            "\n",
            "Era R$ 283.00 -> R$ 377.73 taca_branc_1 133.47%\n",
            "Era R$ 283.00 -> R$ 244.31 taca_branc_2 86.33%\n",
            "\n",
            "Era R$ 428.00 -> R$ 428.00 decanter_1   100.00%\n",
            "Era R$ 428.00 -> R$ 276.36 decanter_2   64.57%\n",
            "\n"
          ]
        }
      ]
    }
  ]
}