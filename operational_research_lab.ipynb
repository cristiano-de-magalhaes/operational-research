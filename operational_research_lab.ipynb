{
 "cells": [
  {
   "cell_type": "markdown",
   "metadata": {},
   "source": [
    "# Cálculo de quantidade de papéis a serem adquiridos\n",
    "\n",
    "A ideia deste trabalho é realizar um cálculo de quantidade de papéis a serem adquiridos a partir de um montante inicial a ser investido e considerando apenas uma lista de ativos previamente avaliados e selecionados para composição de uma carteira teórica.\n",
    "\n",
    "Para isso será utilizada técnica de Pesquisa Operacional (_Operational Research_ ou _OR_) e programação linear (_Linear Programming_ ou _LP_)."
   ]
  },
  {
   "cell_type": "markdown",
   "metadata": {},
   "source": [
    "## Importando o módulo `pywraplp` da biblioteca `ortools.linear_solver`"
   ]
  },
  {
   "cell_type": "code",
   "execution_count": 76,
   "metadata": {},
   "outputs": [],
   "source": [
    "from ortools.linear_solver import pywraplp"
   ]
  },
  {
   "cell_type": "markdown",
   "metadata": {},
   "source": [
    "## Inicializando o `solver`"
   ]
  },
  {
   "cell_type": "code",
   "execution_count": 77,
   "metadata": {},
   "outputs": [],
   "source": [
    "solver = pywraplp.Solver(\n",
    "    \"Maximizar proventos\",\n",
    "    pywraplp.Solver.CBC_MIXED_INTEGER_PROGRAMMING,\n",
    "    # pywraplp.Solver. ,\n",
    ")"
   ]
  },
  {
   "cell_type": "markdown",
   "metadata": {},
   "source": [
    "## Definindo variáveis de decisão\n",
    "\n",
    "Aqui achei interessante utilizar o _ticker_ dos papéis como nome da variável para facilitar a referenciação. A variável com o nome do _ticker_ representará a quantidade do mesmo, que é a resposta que buscamos a fim de maximizar o valor final estimado de proventos mensais -- tomando como base o _Dividend Yeld_ (_DY_) médio dos últimos 12 meses, ciente que os resultados passados não são garantia para o futuro."
   ]
  },
  {
   "cell_type": "code",
   "execution_count": 78,
   "metadata": {},
   "outputs": [],
   "source": [
    "# quantidade mínima # quantidade de papéis que já possui\n",
    "FATN11_min_qtd =  62 # era 0\n",
    "HGLG11_min_qtd =  35 # era 0\n",
    "HGRE11_min_qtd =  45 # era 0\n",
    "HTMX11_min_qtd =  33 # era 0\n",
    "RBRP11_min_qtd = 102 # era 0\n",
    "TVRI11_min_qtd =  56 # era 0\n",
    "VISC11_min_qtd =  48 # era 0\n",
    "XPIN11_min_qtd =  76 # era 0\n",
    "XPLG11_min_qtd =  54 # era 0\n",
    "\n",
    "# LLLL## = quantidade de papéis\n",
    "FATN11 = solver.IntVar(FATN11_min_qtd, solver.infinity(), \"FATN11\")\n",
    "HGLG11 = solver.IntVar(HGLG11_min_qtd, solver.infinity(), \"HGLG11\")\n",
    "HGRE11 = solver.IntVar(HGRE11_min_qtd, solver.infinity(), \"HGRE11\")\n",
    "HTMX11 = solver.IntVar(HTMX11_min_qtd, solver.infinity(), \"HTMX11\")\n",
    "RBRP11 = solver.IntVar(RBRP11_min_qtd, solver.infinity(), \"RBRP11\")\n",
    "TVRI11 = solver.IntVar(TVRI11_min_qtd, solver.infinity(), \"TVRI11\")\n",
    "VISC11 = solver.IntVar(VISC11_min_qtd, solver.infinity(), \"VISC11\")\n",
    "XPIN11 = solver.IntVar(XPIN11_min_qtd, solver.infinity(), \"XPIN11\")\n",
    "XPLG11 = solver.IntVar(XPLG11_min_qtd, solver.infinity(), \"XPLG11\")"
   ]
  },
  {
   "cell_type": "markdown",
   "metadata": {},
   "source": [
    "## Variáveis"
   ]
  },
  {
   "cell_type": "code",
   "execution_count": 79,
   "metadata": {},
   "outputs": [],
   "source": [
    "## variáveis\n",
    "\n",
    "valor_maximo = 41_000 + 44_744.61 # era 53_541.66\n",
    "divisao = 9\n",
    "fator = 0.10 / 2  # +ou- 10%\n",
    "\n",
    "valor_equi_min = (valor_maximo / divisao) * (1 - fator)\n",
    "valor_equi_max = (valor_maximo / divisao) * (1 + fator)"
   ]
  },
  {
   "cell_type": "markdown",
   "metadata": {},
   "source": [
    "## Restrições"
   ]
  },
  {
   "cell_type": "code",
   "execution_count": 80,
   "metadata": {},
   "outputs": [
    {
     "data": {
      "text/plain": [
       "<ortools.linear_solver.pywraplp.Constraint; proxy of <Swig Object of type 'operations_research::MPConstraint *' at 0x120744780> >"
      ]
     },
     "execution_count": 80,
     "metadata": {},
     "output_type": "execute_result"
    }
   ],
   "source": [
    "# preços\n",
    "FATN11_prc =  75.15 # era   89.58\n",
    "HGLG11_prc = 150.90 # era  156.00\n",
    "HGRE11_prc = 100.76 # era  104.97\n",
    "HTMX11_prc = 145.84 # era  197.98\n",
    "RBRP11_prc =  44.75 # era   50.29\n",
    "TVRI11_prc =  90.31 # era   96.82\n",
    "VISC11_prc = 100.12 # era  103.57\n",
    "XPIN11_prc =  67.70 # era   72.66\n",
    "XPLG11_prc =  92.89 # era   96.94\n",
    "\n",
    "solver.Add(FATN11 * FATN11_prc <= valor_equi_max)\n",
    "solver.Add(HGLG11 * HGLG11_prc <= valor_equi_max)\n",
    "solver.Add(HGRE11 * HGRE11_prc <= valor_equi_max)\n",
    "solver.Add(HTMX11 * HTMX11_prc <= valor_equi_max)\n",
    "solver.Add(RBRP11 * RBRP11_prc <= valor_equi_max)\n",
    "solver.Add(TVRI11 * TVRI11_prc <= valor_equi_max)\n",
    "solver.Add(VISC11 * VISC11_prc <= valor_equi_max)\n",
    "solver.Add(XPIN11 * XPIN11_prc <= valor_equi_max)\n",
    "solver.Add(XPLG11 * XPLG11_prc <= valor_equi_max)\n",
    "\n",
    "solver.Add(FATN11 * FATN11_prc >= valor_equi_min)\n",
    "solver.Add(HGLG11 * HGLG11_prc >= valor_equi_min)\n",
    "solver.Add(HGRE11 * HGRE11_prc >= valor_equi_min)\n",
    "solver.Add(HTMX11 * HTMX11_prc >= valor_equi_min)\n",
    "solver.Add(RBRP11 * RBRP11_prc >= valor_equi_min)\n",
    "solver.Add(TVRI11 * TVRI11_prc >= valor_equi_min)\n",
    "solver.Add(VISC11 * VISC11_prc >= valor_equi_min)\n",
    "solver.Add(XPIN11 * XPIN11_prc >= valor_equi_min)\n",
    "solver.Add(XPLG11 * XPLG11_prc >= valor_equi_min)\n",
    "\n",
    "solver.Add(                \\\n",
    "     FATN11 * FATN11_prc + \\\n",
    "     HGLG11 * HGLG11_prc + \\\n",
    "     HGRE11 * HGRE11_prc + \\\n",
    "     HTMX11 * HTMX11_prc + \\\n",
    "     RBRP11 * RBRP11_prc + \\\n",
    "     TVRI11 * TVRI11_prc + \\\n",
    "     VISC11 * VISC11_prc + \\\n",
    "     XPIN11 * XPIN11_prc + \\\n",
    "     XPLG11 * XPLG11_prc <= valor_maximo\n",
    ")"
   ]
  },
  {
   "cell_type": "code",
   "execution_count": 81,
   "metadata": {},
   "outputs": [
    {
     "data": {
      "text/plain": [
       "2.25"
      ]
     },
     "execution_count": 81,
     "metadata": {},
     "output_type": "execute_result"
    }
   ],
   "source": [
    "import statistics\n",
    "\n",
    "lista = [\n",
    "    1.66,\n",
    "    2.19,\n",
    "    1.98,\n",
    "    1.41,\n",
    "    2.30,\n",
    "    2.13,\n",
    "    2.15,\n",
    "    2.37,\n",
    "    3.42,\n",
    "    3.94,\n",
    "    1.23,\n",
    "    0.98\n",
    "]\n",
    "\n",
    "med = statistics.mean(lista)\n",
    "med\n",
    "\n",
    "lista = [\n",
    "    0.63,\n",
    "    1.90,\n",
    "    1.74,\n",
    "    1.88,\n",
    "    1.87,\n",
    "    2.02,\n",
    "    2.85,\n",
    "    3.70,\n",
    "    3.70,\n",
    "    3.25,\n",
    "    0.86,\n",
    "    2.60\n",
    "]\n",
    "\n",
    "med = statistics.mean(lista)\n",
    "med"
   ]
  },
  {
   "cell_type": "code",
   "execution_count": 82,
   "metadata": {},
   "outputs": [],
   "source": [
    "# proventos\n",
    "\n",
    "FATN11_dy = 0.80 # era 0.78\n",
    "HGLG11_dy = 1.10 # era 1.10\n",
    "HGRE11_dy = 0.85 # era 0.64\n",
    "HTMX11_dy = 2.14 # era 2.25\n",
    "RBRP11_dy = 0.41 # era 0.35\n",
    "TVRI11_dy = 1.03 # era 0.90\n",
    "VISC11_dy = 0.80 # era 0.97\n",
    "XPIN11_dy = 0.74 # era ?\n",
    "XPLG11_dy = 0.82 # era ?\n",
    "\n",
    "solver.Maximize(\n",
    "    FATN11 * FATN11_dy + \\\n",
    "    HGLG11 * HGLG11_dy + \\\n",
    "    HGRE11 * HGRE11_dy + \\\n",
    "    HTMX11 * HTMX11_dy + \\\n",
    "    RBRP11 * RBRP11_dy + \\\n",
    "    TVRI11 * TVRI11_dy + \\\n",
    "    VISC11 * VISC11_dy + \\\n",
    "    XPIN11 * XPIN11_dy + \\\n",
    "    XPLG11 * XPLG11_dy\n",
    ")"
   ]
  },
  {
   "cell_type": "code",
   "execution_count": 83,
   "metadata": {},
   "outputs": [],
   "source": [
    "status = solver.Solve()"
   ]
  },
  {
   "cell_type": "code",
   "execution_count": 84,
   "metadata": {},
   "outputs": [
    {
     "name": "stdout",
     "output_type": "stream",
     "text": [
      "Solução:\n",
      "Calculado em 84.00ms utilizando 3 iterações\n",
      "--------------------\n",
      "FATN11: 133.0 = 62 (now) + 71.0 (buy) \t | + R$ 5335.65 | R$ 9994.95\n",
      "HGLG11: 60.0 = 35 (now) + 25.0 (buy) \t | + R$ 3772.50 | R$ 9054.00\n",
      "HGRE11: 91.0 = 45 (now) + 46.0 (buy) \t | + R$ 4634.96 | R$ 9169.16\n",
      "HTMX11: 68.0 = 33 (now) + 35.0 (buy) \t | + R$ 5104.40 | R$ 9917.12\n",
      "RBRP11: 214.0 = 102 (now) + 112.0 (buy)    | + R$ 5012.00 | R$ 9576.50\n",
      "TVRI11: 110.0 = 56 (now) + 54.0 (buy) \t | + R$ 4876.74 | R$ 9934.10\n",
      "VISC11: 91.0 = 48 (now) + 43.0 (buy) \t | + R$ 4305.16 | R$ 9110.92\n",
      "XPIN11: 146.0 = 76 (now) + 70.0 (buy) \t | + R$ 4739.00 | R$ 9884.20\n",
      "XPLG11: 98.0 = 54 (now) + 44.0 (buy) \t | + R$ 4087.16 | R$ 9103.22\n",
      "--------------------\n",
      "Valor de proventos estimado maximidado: R$ 857.51\n",
      "Total investido neste cenário: R$ 85744.17 (+40999.56)\n",
      "Yield total neste cenário: 1.00%\n"
     ]
    }
   ],
   "source": [
    "if status == pywraplp.Solver.OPTIMAL:\n",
    "    print(f\"Solução:\")\n",
    "    print(f\"Calculado em {solver.wall_time():.2f}ms utilizando {solver.iterations()} iterações\")\n",
    "    print('-' * 20)\n",
    "    FATN11_total = FATN11.solution_value()\n",
    "    HGLG11_total = HGLG11.solution_value()\n",
    "    HGRE11_total = HGRE11.solution_value()\n",
    "    HTMX11_total = HTMX11.solution_value()\n",
    "    RBRP11_total = RBRP11.solution_value()\n",
    "    TVRI11_total = TVRI11.solution_value()\n",
    "    VISC11_total = VISC11.solution_value()\n",
    "    XPIN11_total = XPIN11.solution_value()\n",
    "    XPLG11_total = XPLG11.solution_value()\n",
    "\n",
    "    FATN11_buy = FATN11_total - FATN11_min_qtd\n",
    "    HGLG11_buy = HGLG11_total - HGLG11_min_qtd\n",
    "    HGRE11_buy = HGRE11_total - HGRE11_min_qtd\n",
    "    HTMX11_buy = HTMX11_total - HTMX11_min_qtd\n",
    "    RBRP11_buy = RBRP11_total - RBRP11_min_qtd\n",
    "    TVRI11_buy = TVRI11_total - TVRI11_min_qtd\n",
    "    VISC11_buy = VISC11_total - VISC11_min_qtd\n",
    "    XPIN11_buy = XPIN11_total - XPIN11_min_qtd\n",
    "    XPLG11_buy = XPLG11_total - XPLG11_min_qtd\n",
    "\n",
    "    FATN11_amount = FATN11_buy * FATN11_prc\n",
    "    HGLG11_amount = HGLG11_buy * HGLG11_prc\n",
    "    HGRE11_amount = HGRE11_buy * HGRE11_prc\n",
    "    HTMX11_amount = HTMX11_buy * HTMX11_prc\n",
    "    RBRP11_amount = RBRP11_buy * RBRP11_prc\n",
    "    TVRI11_amount = TVRI11_buy * TVRI11_prc\n",
    "    VISC11_amount = VISC11_buy * VISC11_prc\n",
    "    XPIN11_amount = XPIN11_buy * XPIN11_prc\n",
    "    XPLG11_amount = XPLG11_buy * XPLG11_prc\n",
    "\n",
    "    FATN11_tot_amount = (FATN11_min_qtd + FATN11_buy) * FATN11_prc\n",
    "    HGLG11_tot_amount = (HGLG11_min_qtd + HGLG11_buy) * HGLG11_prc\n",
    "    HGRE11_tot_amount = (HGRE11_min_qtd + HGRE11_buy) * HGRE11_prc\n",
    "    HTMX11_tot_amount = (HTMX11_min_qtd + HTMX11_buy) * HTMX11_prc\n",
    "    RBRP11_tot_amount = (RBRP11_min_qtd + RBRP11_buy) * RBRP11_prc\n",
    "    TVRI11_tot_amount = (TVRI11_min_qtd + TVRI11_buy) * TVRI11_prc\n",
    "    VISC11_tot_amount = (VISC11_min_qtd + VISC11_buy) * VISC11_prc\n",
    "    XPIN11_tot_amount = (XPIN11_min_qtd + XPIN11_buy) * XPIN11_prc\n",
    "    XPLG11_tot_amount = (XPLG11_min_qtd + XPLG11_buy) * XPLG11_prc\n",
    "\n",
    "    print(f\"FATN11: {FATN11_total} = {FATN11_min_qtd} (now) + {FATN11_buy} (buy) \\t | + R$ {FATN11_amount:.2f} | R$ {FATN11_tot_amount:.2f}\")\n",
    "    print(f\"HGLG11: {HGLG11_total} = {HGLG11_min_qtd} (now) + {HGLG11_buy} (buy) \\t | + R$ {HGLG11_amount:.2f} | R$ {HGLG11_tot_amount:.2f}\")\n",
    "    print(f\"HGRE11: {HGRE11_total} = {HGRE11_min_qtd} (now) + {HGRE11_buy} (buy) \\t | + R$ {HGRE11_amount:.2f} | R$ {HGRE11_tot_amount:.2f}\")\n",
    "    print(f\"HTMX11: {HTMX11_total} = {HTMX11_min_qtd} (now) + {HTMX11_buy} (buy) \\t | + R$ {HTMX11_amount:.2f} | R$ {HTMX11_tot_amount:.2f}\")\n",
    "    print(f\"RBRP11: {RBRP11_total} = {RBRP11_min_qtd} (now) + {RBRP11_buy} (buy)    | + R$ {RBRP11_amount:.2f} | R$ {RBRP11_tot_amount:.2f}\")\n",
    "    print(f\"TVRI11: {TVRI11_total} = {TVRI11_min_qtd} (now) + {TVRI11_buy} (buy) \\t | + R$ {TVRI11_amount:.2f} | R$ {TVRI11_tot_amount:.2f}\")\n",
    "    print(f\"VISC11: {VISC11_total} = {VISC11_min_qtd} (now) + {VISC11_buy} (buy) \\t | + R$ {VISC11_amount:.2f} | R$ {VISC11_tot_amount:.2f}\")\n",
    "    print(f\"XPIN11: {XPIN11_total} = {XPIN11_min_qtd} (now) + {XPIN11_buy} (buy) \\t | + R$ {XPIN11_amount:.2f} | R$ {XPIN11_tot_amount:.2f}\")\n",
    "    print(f\"XPLG11: {XPLG11_total} = {XPLG11_min_qtd} (now) + {XPLG11_buy} (buy) \\t | + R$ {XPLG11_amount:.2f} | R$ {XPLG11_tot_amount:.2f}\")\n",
    "    \n",
    "    print('-' * 20)\n",
    "    total = FATN11_prc * FATN11.solution_value() + \\\n",
    "            HGLG11_prc * HGLG11.solution_value() + \\\n",
    "            HGRE11_prc * HGRE11.solution_value() + \\\n",
    "            HTMX11_prc * HTMX11.solution_value() + \\\n",
    "            RBRP11_prc * RBRP11.solution_value() + \\\n",
    "            TVRI11_prc * TVRI11.solution_value() + \\\n",
    "            VISC11_prc * VISC11.solution_value() + \\\n",
    "            XPIN11_prc * XPIN11.solution_value() + \\\n",
    "            XPLG11_prc * XPLG11.solution_value()\n",
    "    print(f\"Valor de proventos estimado maximidado: R$ {solver.Objective().Value():.2f}\")\n",
    "    print(f\"Total investido neste cenário: R$ {total:.2f} (+{(total - 44_744.61):.2f})\")\n",
    "    print(f\"Yield total neste cenário: {(solver.Objective().Value() / total)*100:.2f}%\")\n",
    "\n",
    "else:\n",
    "    print(f\"O Solver não conseguiu encontrar uma solução ótima.\") "
   ]
  },
  {
   "cell_type": "markdown",
   "metadata": {},
   "source": [
    "| PAPEL | TIPO | VALOR UN. | DATA | QTD. COMPRADA | QTD. SUGERIDA |\n",
    "|:-:|:-:|:-:|:-:|:-:|:-:|\n",
    "| FATN11\t| FII\t| R$ ( 89,69)\t| 2024/10/11\t|  63  |  66 |\n",
    "| HGLG11\t| FII\t| R$ (156,22)\t| 2024/10/11\t|  36  |  38 |\n",
    "| HGRE11\t| FII\t| R$ (104,93)\t| 2024/10/11\t|  46  |  57 |\n",
    "| HTMX11\t| FII\t| R$ (196,68)\t| 2024/10/11\t|  34  |  30 |\n",
    "| RBRP11\t| FII\t| R$ ( 50,16)\t| 2024/10/11\t| 103  | 119 |\n",
    "| TVRI11\t| FII\t| R$ ( 96,84)\t| 2024/10/11\t|  57  |  61 |\n",
    "| VISC11\t| FII\t| R$ (103,81)\t| 2024/10/11\t|  49  |  57 |\n",
    "| XPIN11\t| FII\t| R$ ( 72,54)\t| 2024/10/11\t|  77  |  82 |\n",
    "| XPLG11\t| FII\t| R$ ( 96,50)\t| 2024/10/11\t|  55  |  61 |"
   ]
  }
 ],
 "metadata": {
  "kernelspec": {
   "display_name": "venv",
   "language": "python",
   "name": "python3"
  },
  "language_info": {
   "codemirror_mode": {
    "name": "ipython",
    "version": 3
   },
   "file_extension": ".py",
   "mimetype": "text/x-python",
   "name": "python",
   "nbconvert_exporter": "python",
   "pygments_lexer": "ipython3",
   "version": "3.12.4"
  }
 },
 "nbformat": 4,
 "nbformat_minor": 2
}
